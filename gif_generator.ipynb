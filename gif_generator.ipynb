{
 "cells": [
  {
   "cell_type": "code",
   "execution_count": 1,
   "metadata": {},
   "outputs": [
    {
     "name": "stdout",
     "output_type": "stream",
     "text": [
      "GIF created successfully: plots_spatial_patterns/residuals.gif\n",
      "Number of frames: 141\n",
      "Frame duration: 0.1 seconds\n"
     ]
    }
   ],
   "source": [
    "import os\n",
    "from PIL import Image\n",
    "\n",
    "def images_to_gif(input_folder, output_gif, duration=100):\n",
    "    \"\"\"\n",
    "    Convert images in a folder to a GIF.\n",
    "    \n",
    "    Parameters:\n",
    "    - input_folder: Path to the folder containing images\n",
    "    - output_gif: Path and filename for the output GIF\n",
    "    - duration: Duration of each frame in milliseconds (default: 100ms = 0.1s)\n",
    "    \"\"\"\n",
    "    # Get list of image files, sorted to ensure consistent order\n",
    "    image_files = [f for f in os.listdir(input_folder) if f.lower().endswith(('.png', '.jpg', '.jpeg', '.bmp', '.gif'))]\n",
    "    image_files.sort()\n",
    "    \n",
    "    # Check if there are any images\n",
    "    if not image_files:\n",
    "        print(f\"No images found in {input_folder}\")\n",
    "        return\n",
    "    \n",
    "    # Open the first image\n",
    "    images = []\n",
    "    for filename in image_files:\n",
    "        file_path = os.path.join(input_folder, filename)\n",
    "        img = Image.open(file_path)\n",
    "        images.append(img)\n",
    "    \n",
    "    # Save the first image as the base for the GIF\n",
    "    first_image = images[0]\n",
    "    \n",
    "    # Save the GIF\n",
    "    first_image.save(\n",
    "        output_gif, \n",
    "        save_all=True, \n",
    "        append_images=images[1:], \n",
    "        duration=duration, \n",
    "        loop=0  # 0 means loop indefinitely\n",
    "    )\n",
    "    \n",
    "    print(f\"GIF created successfully: {output_gif}\")\n",
    "    print(f\"Number of frames: {len(images)}\")\n",
    "    print(f\"Frame duration: {duration/1000} seconds\")\n",
    "\n",
    "# Example usage\n",
    "if __name__ == \"__main__\":\n",
    "    # Replace these paths with your actual input folder and desired output path\n",
    "    input_folder = \"plots_spatial_patterns/residuals\"\n",
    "    output_gif = \"plots_spatial_patterns/residuals.gif\"\n",
    "    \n",
    "    images_to_gif(input_folder, output_gif)"
   ]
  },
  {
   "cell_type": "code",
   "execution_count": null,
   "metadata": {},
   "outputs": [],
   "source": []
  }
 ],
 "metadata": {
  "kernelspec": {
   "display_name": ".venv",
   "language": "python",
   "name": "python3"
  },
  "language_info": {
   "codemirror_mode": {
    "name": "ipython",
    "version": 3
   },
   "file_extension": ".py",
   "mimetype": "text/x-python",
   "name": "python",
   "nbconvert_exporter": "python",
   "pygments_lexer": "ipython3",
   "version": "3.12.3"
  }
 },
 "nbformat": 4,
 "nbformat_minor": 2
}
